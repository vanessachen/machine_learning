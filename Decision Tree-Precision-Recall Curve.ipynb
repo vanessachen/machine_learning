{
 "cells": [
  {
   "cell_type": "code",
   "execution_count": 18,
   "metadata": {},
   "outputs": [
    {
     "name": "stdout",
     "output_type": "stream",
     "text": [
      "Populating the interactive namespace from numpy and matplotlib\n"
     ]
    }
   ],
   "source": [
    "# Using example code from http://scikit-learn.org/stable/modules/tree.html\n",
    "import pandas as pd\n",
    "from sklearn import preprocessing\n",
    "from sklearn.datasets import load_iris\n",
    "from sklearn import tree\n",
    "from sklearn import svm, datasets\n",
    "from sklearn.metrics import average_precision_score\n",
    "from sklearn.model_selection import train_test_split\n",
    "from sklearn.externals.six import StringIO\n",
    "import pydot\n",
    "import os.path\n",
    "import matplotlib.pyplot\n",
    "%pylab inline"
   ]
  },
  {
   "cell_type": "code",
   "execution_count": 13,
   "metadata": {
    "collapsed": true
   },
   "outputs": [],
   "source": [
    "# Load the iris dataset\n",
    "iris = load_iris()"
   ]
  },
  {
   "cell_type": "code",
   "execution_count": null,
   "metadata": {},
   "outputs": [],
   "source": []
  },
  {
   "cell_type": "code",
   "execution_count": null,
   "metadata": {
    "collapsed": true
   },
   "outputs": [],
   "source": [
    "##################################################################\n",
    "# Split dataset \n",
    "##################################################################\n",
    "\n",
    "# add random \n",
    "random_state = np.random.RandomState(0)\n",
    "\n",
    "# split into training and test\n",
    "data_train, data_test, target_train, target_test = train_test_split(iris.data, iris.target,\n",
    "                                                    test_size=.4,random_state=random_state)\n"
   ]
  },
  {
   "cell_type": "code",
   "execution_count": null,
   "metadata": {},
   "outputs": [],
   "source": [
    "#len(data_train)\n",
    "#len(data_test)\n",
    "len(target_train)\n",
    "#len(target_test)"
   ]
  },
  {
   "cell_type": "code",
   "execution_count": null,
   "metadata": {},
   "outputs": [],
   "source": [
    "#################################################################\n",
    "# Create new Model\n",
    "#################################################################\n",
    "# Create a simple classifier\n",
    "clf = svm.LinearSVC(random_state=random_state)\n",
    "clf.fit(data_train, target_train)\n",
    "# calculating the target score for each class\n",
    "#target_score_Setosa = clf.decision_function(data_test)"
   ]
  },
  {
   "cell_type": "code",
   "execution_count": null,
   "metadata": {},
   "outputs": [],
   "source": [
    "data_predictions = clf.predict(data_test)\n",
    "data_predictions #using model to predict the 'target' for the data testing split"
   ]
  },
  {
   "cell_type": "code",
   "execution_count": null,
   "metadata": {},
   "outputs": [],
   "source": [
    "len(data_test)"
   ]
  },
  {
   "cell_type": "code",
   "execution_count": null,
   "metadata": {},
   "outputs": [],
   "source": []
  },
  {
   "cell_type": "code",
   "execution_count": null,
   "metadata": {},
   "outputs": [],
   "source": [
    "len(data_predictions)"
   ]
  },
  {
   "cell_type": "code",
   "execution_count": null,
   "metadata": {
    "collapsed": true
   },
   "outputs": [],
   "source": [
    "#################################################################\n",
    "# Binarize my dataset\n",
    "#################################################################\n",
    "from sklearn import preprocessing\n",
    "lb = preprocessing.LabelBinarizer()\n",
    "#http://scikit-learn.org/stable/modules/generated/sklearn.preprocessing.LabelBinarizer.html\n",
    "#http://scikit-learn.org/stable/auto_examples/model_selection/plot_precision_recall.html\n"
   ]
  },
  {
   "cell_type": "code",
   "execution_count": null,
   "metadata": {},
   "outputs": [],
   "source": [
    "len(target_test) #testing split, these are the true values"
   ]
  },
  {
   "cell_type": "code",
   "execution_count": null,
   "metadata": {
    "scrolled": true
   },
   "outputs": [],
   "source": [
    "binarized_truth_classifications = lb.fit_transform(target_test)\n",
    "binarized_truth_classifications"
   ]
  },
  {
   "cell_type": "code",
   "execution_count": null,
   "metadata": {},
   "outputs": [],
   "source": [
    "len(data_predictions)"
   ]
  },
  {
   "cell_type": "code",
   "execution_count": null,
   "metadata": {},
   "outputs": [],
   "source": [
    "lb.fit_transform(data_predictions).shape"
   ]
  },
  {
   "cell_type": "code",
   "execution_count": null,
   "metadata": {},
   "outputs": [],
   "source": [
    "binarized_data_predictions = lb.fit_transform(data_predictions)\n",
    "binarized_data_predictions"
   ]
  },
  {
   "cell_type": "code",
   "execution_count": null,
   "metadata": {},
   "outputs": [],
   "source": [
    "len(binarized_data_predictions[:])"
   ]
  },
  {
   "cell_type": "code",
   "execution_count": null,
   "metadata": {},
   "outputs": [],
   "source": [
    "#binarizing the dataset for the precision-recall score and separating the columns into the predictions for each respective class\n",
    "data_predict_Setosa = binarized_data_predictions[:,0]\n",
    "data_predict_Setosa\n",
    "data_predict_Versicolor = binarized_data_predictions[:,1]\n",
    "data_predict_Versicolor\n",
    "data_predict_Virginica = binarized_data_predictions[:,2]\n",
    "data_predict_Virginica"
   ]
  },
  {
   "cell_type": "code",
   "execution_count": null,
   "metadata": {},
   "outputs": [],
   "source": [
    "len(data_predict_Setosa)"
   ]
  },
  {
   "cell_type": "code",
   "execution_count": null,
   "metadata": {},
   "outputs": [],
   "source": [
    "# binarizing the actual classifications for each respective class \n",
    "data_truth_Setosa = binarized_truth_classifications[:,0]\n",
    "data_truth_Setosa\n",
    "data_truth_Versicolor = binarized_truth_classifications[:,1]\n",
    "data_truth_Versicolor\n",
    "data_truth_Virginica = binarized_truth_classifications[:,2]\n",
    "data_truth_Virginica"
   ]
  },
  {
   "cell_type": "code",
   "execution_count": null,
   "metadata": {},
   "outputs": [],
   "source": [
    "data_predict_Setosa"
   ]
  },
  {
   "cell_type": "code",
   "execution_count": null,
   "metadata": {},
   "outputs": [],
   "source": [
    "len(data_predict_Setosa)"
   ]
  },
  {
   "cell_type": "code",
   "execution_count": null,
   "metadata": {},
   "outputs": [],
   "source": [
    "len(data_truth_Setosa)"
   ]
  },
  {
   "cell_type": "code",
   "execution_count": null,
   "metadata": {},
   "outputs": [],
   "source": [
    "#################################################################\n",
    "# Compute Precision-Recall Score\n",
    "#################################################################\n",
    "#target_score_Setosa = clf.decision_function(data_predict_Setosa)\n",
    "#average_precision = average_precision_score(target_test, target_score)\n",
    "average_precision_Setosa = average_precision_score(data_predict_Setosa, data_truth_Setosa)\n",
    "average_precision_Versicolor = average_precision_score(data_predict_Versicolor, data_truth_Versicolor)\n",
    "average_precision_Virginica = average_precision_score(data_predict_Virginica, data_truth_Virginica)\n",
    "\n",
    "print('Average precision-recall score for Setosa Class: {0:0.2f}'.format(\n",
    "      average_precision_Setosa))\n",
    "print('Average precision-recall score for Versicolor Class: {0:0.2f}'.format(\n",
    "      average_precision_Versicolor))\n",
    "print('Average precision-recall score for Virginica Class: {0:0.2f}'.format(\n",
    "      average_precision_Virginica))"
   ]
  },
  {
   "cell_type": "code",
   "execution_count": null,
   "metadata": {},
   "outputs": [],
   "source": [
    "###############################################\n",
    "# Plotting Precision-Recall Curve\n",
    "from sklearn.metrics import precision_recall_curve\n",
    "import matplotlib.pyplot as plt\n",
    "\n",
    "#SETOSA CLASS\n",
    "precisionSetosa, recallSetosa, _ = precision_recall_curve(data_predict_Setosa, data_truth_Setosa)\n",
    "\n",
    "plt.step(recallSetosa, precisionSetosa, color='b', alpha=0.2,\n",
    "         where='post')\n",
    "plt.fill_between(recallSetosa, precisionSetosa, step='post', alpha=0.2,\n",
    "                 color='b')\n",
    "\n",
    "plt.xlabel('Recall')\n",
    "plt.ylabel('Precision')\n",
    "plt.ylim([0.0, 1.05])\n",
    "plt.xlim([0.0, 1.0])\n",
    "plt.title('Precision-Recall curve for Setosa Class: AUC={0:0.2f}'.format(\n",
    "          average_precision_Setosa))\n",
    "\n"
   ]
  },
  {
   "cell_type": "code",
   "execution_count": null,
   "metadata": {},
   "outputs": [],
   "source": [
    "#VERSICOLOR CLASS\n",
    "precisionVersicolor, recallVersicolor, _ = precision_recall_curve(data_predict_Versicolor, data_truth_Versicolor)\n",
    "\n",
    "plt.step(recallVersicolor, precisionVersicolor, color='b', alpha=0.2,\n",
    "         where='post')\n",
    "plt.fill_between(recallVersicolor, precisionVersicolor, step='post', alpha=0.2,\n",
    "                 color='b')\n",
    "\n",
    "plt.xlabel('Recall')\n",
    "plt.ylabel('Precision')\n",
    "plt.ylim([0.0, 1.05])\n",
    "plt.xlim([0.0, 1.0])\n",
    "plt.title('Precision-Recall curve for Versicolor Class: AUC={0:0.2f}'.format(\n",
    "          average_precision_Versicolor))"
   ]
  },
  {
   "cell_type": "code",
   "execution_count": null,
   "metadata": {},
   "outputs": [],
   "source": [
    "#VIRGINICA CLASS\n",
    "precisionVirginica, recallVirginica, _ = precision_recall_curve(data_predict_Virginica, data_truth_Virginica)\n",
    "\n",
    "plt.step(recallVirginica, precisionVirginica, color='b', alpha=0.2,\n",
    "         where='post')\n",
    "plt.fill_between(recallVirginica, precisionVirginica, step='post', alpha=0.2,\n",
    "                 color='b')\n",
    "\n",
    "plt.xlabel('Recall')\n",
    "plt.ylabel('Precision')\n",
    "plt.ylim([0.0, 1.05])\n",
    "plt.xlim([0.0, 1.0])\n",
    "plt.title('Precision-Recall curve for Virginica Class: AUC={0:0.2f}'.format(\n",
    "          average_precision_Virginica))"
   ]
  },
  {
   "cell_type": "code",
   "execution_count": null,
   "metadata": {
    "collapsed": true
   },
   "outputs": [],
   "source": [
    "#####################################\n",
    "# IGNORE THE REST - JUST SOME TESTING\n",
    "#####################################"
   ]
  },
  {
   "cell_type": "code",
   "execution_count": null,
   "metadata": {
    "collapsed": true
   },
   "outputs": [],
   "source": [
    "import pandas as pd\n",
    "iris_df = pd.DataFrame(data=iris.data)"
   ]
  },
  {
   "cell_type": "code",
   "execution_count": null,
   "metadata": {
    "collapsed": true
   },
   "outputs": [],
   "source": [
    "iris_df['flower_class'] = iris.target\n",
    "#iris_df['sepalLength'] = iris.data[%0]\n",
    "#iris.data"
   ]
  },
  {
   "cell_type": "code",
   "execution_count": null,
   "metadata": {
    "collapsed": true
   },
   "outputs": [],
   "source": [
    "#iris_df"
   ]
  },
  {
   "cell_type": "code",
   "execution_count": null,
   "metadata": {
    "collapsed": true
   },
   "outputs": [],
   "source": [
    "random_indices = random.choice(range(0, 150), replace=False, size=100)"
   ]
  },
  {
   "cell_type": "code",
   "execution_count": null,
   "metadata": {
    "collapsed": true
   },
   "outputs": [],
   "source": [
    "#random_indices"
   ]
  },
  {
   "cell_type": "code",
   "execution_count": null,
   "metadata": {
    "collapsed": true
   },
   "outputs": [],
   "source": [
    "test_indices = [i for i in range(0, 150) if i not in random_indices]"
   ]
  },
  {
   "cell_type": "code",
   "execution_count": null,
   "metadata": {
    "collapsed": true
   },
   "outputs": [],
   "source": [
    "#test_indices"
   ]
  },
  {
   "cell_type": "code",
   "execution_count": null,
   "metadata": {
    "collapsed": true
   },
   "outputs": [],
   "source": [
    "training = iris_df.iloc[random_indices]"
   ]
  },
  {
   "cell_type": "code",
   "execution_count": null,
   "metadata": {
    "collapsed": true
   },
   "outputs": [],
   "source": [
    "testing = iris_df.iloc[test_indices]"
   ]
  },
  {
   "cell_type": "code",
   "execution_count": null,
   "metadata": {
    "collapsed": true,
    "scrolled": true
   },
   "outputs": [],
   "source": [
    "#iris_df.iloc[test_indices]"
   ]
  },
  {
   "cell_type": "code",
   "execution_count": null,
   "metadata": {
    "collapsed": true
   },
   "outputs": [],
   "source": [
    "#input_cols = ['sepalLength', 'sepalWidth', 'petalLength', 'petalWidth']\n",
    "input_cols = [0, 1, 2, 3]"
   ]
  },
  {
   "cell_type": "code",
   "execution_count": null,
   "metadata": {
    "collapsed": true
   },
   "outputs": [],
   "source": [
    "#training[input_cols]"
   ]
  },
  {
   "cell_type": "code",
   "execution_count": null,
   "metadata": {},
   "outputs": [],
   "source": [
    "# Train the model\n",
    "model_1 = tree.DecisionTreeClassifier()\n",
    "model_1.fit(training[input_cols], training['flower_class']) #fitting the data to the target (known classifications) to a model\n"
   ]
  },
  {
   "cell_type": "code",
   "execution_count": null,
   "metadata": {},
   "outputs": [],
   "source": [
    "#predict for the accuracy of the model \n",
    "model_1.predict(testing[input_cols])"
   ]
  },
  {
   "cell_type": "markdown",
   "metadata": {},
   "source": []
  },
  {
   "cell_type": "code",
   "execution_count": null,
   "metadata": {
    "collapsed": true
   },
   "outputs": [],
   "source": [
    "#testing['flower_class']"
   ]
  },
  {
   "cell_type": "code",
   "execution_count": null,
   "metadata": {
    "collapsed": true
   },
   "outputs": [],
   "source": [
    "# create the flow chart visualizaton and write it to a PDF on the Desktop\n",
    "dot_data = StringIO()\n"
   ]
  },
  {
   "cell_type": "code",
   "execution_count": null,
   "metadata": {},
   "outputs": [],
   "source": [
    "tree.export_graphviz(model, out_file=dot_data, feature_names=iris.feature_names, class_names=iris.target_names,\n",
    "                     filled=True, rounded=True, special_characters=True)\n",
    "graph = pydot.graph_from_dot_data(dot_data.getvalue())[0]\n",
    "\n",
    "graph.write_pdf(os.path.expanduser(\"~/Desktop/iris_decision_tree.pdf\"))"
   ]
  },
  {
   "cell_type": "code",
   "execution_count": 16,
   "metadata": {},
   "outputs": [
    {
     "data": {
      "image/png": "[encoded data removed]",
      "text/plain": [
       "<matplotlib.figure.Figure at 0x108b6a080>"
      ]
     },
     "metadata": {},
     "output_type": "display_data"
    }
   ],
   "source": [
    "# Plot two of the features (the first and fourth columns, in this case)\n",
    "X_INDEX = 0\n",
    "Y_INDEX = 3\n",
    "\n",
    "x = iris.data[:,X_INDEX]\n",
    "y = iris.data[:,Y_INDEX]\n",
    "\n",
    "# The data are in order by type. Find out where the other types start\n",
    "start_type_one = list(iris.target).index(1)\n",
    "start_type_two = list(iris.target).index(2)\n",
    "\n",
    "# put the input data on the graph, with different colors and shapes for each type\n",
    "matplotlib.pyplot.scatter(x[:start_type_one], y[:start_type_one], c=\"red\", marker=\"o\")\n",
    "matplotlib.pyplot.scatter(x[start_type_one:start_type_two], y[start_type_one:start_type_two], c=\"blue\", marker=\"^\")\n",
    "matplotlib.pyplot.scatter(x[start_type_two:], y[start_type_two:], c=\"yellow\", marker=\"*\")\n",
    "\n",
    "# Label the axes\n",
    "matplotlib.pyplot.xlabel(iris.feature_names[X_INDEX])\n",
    "matplotlib.pyplot.ylabel(iris.feature_names[Y_INDEX])\n",
    "\n",
    "matplotlib.pyplot.show()"
   ]
  },
  {
   "cell_type": "code",
   "execution_count": null,
   "metadata": {
    "collapsed": true
   },
   "outputs": [],
   "source": []
  }
 ],
 "metadata": {
  "kernelspec": {
   "display_name": "Python 3",
   "language": "python",
   "name": "python3"
  },
  "language_info": {
   "codemirror_mode": {
    "name": "ipython",
    "version": 3
   },
   "file_extension": ".py",
   "mimetype": "text/x-python",
   "name": "python",
   "nbconvert_exporter": "python",
   "pygments_lexer": "ipython3",
   "version": "3.6.2"
  }
 },
 "nbformat": 4,
 "nbformat_minor": 2
}
