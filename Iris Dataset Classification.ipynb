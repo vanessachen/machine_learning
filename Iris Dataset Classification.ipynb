{
 "cells": [
  {
   "cell_type": "code",
   "execution_count": 1,
   "metadata": {},
   "outputs": [
    {
     "name": "stdout",
     "output_type": "stream",
     "text": [
      "Populating the interactive namespace from numpy and matplotlib\n"
     ]
    }
   ],
   "source": [
    "# some explanation of the model:\n",
    "#    http://scikit-learn.org/stable/modules/linear_model.html#logistic-regression\n",
    "# full documentation of the logistic regression model here:\n",
    "#    http://scikit-learn.org/stable/modules/generated/sklearn.linear_model.LogisticRegression.html\n",
    "\n",
    "import numpy.random\n",
    "from sklearn import linear_model\n",
    "from sklearn.datasets import load_iris\n",
    "%pylab inline"
   ]
  },
  {
   "cell_type": "code",
   "execution_count": 2,
   "metadata": {
    "collapsed": true
   },
   "outputs": [],
   "source": [
    "################################################################################\n",
    "#  DATA\n",
    "################################################################################\n",
    "\n",
    "iris = load_iris()\n",
    "# Use just two columns (the first and fourth in this case)\n",
    "iris_inputs = iris.data[:,[0,3]]\n",
    "\n",
    "# The data are in order by type. Find out where the other types start\n",
    "start_type_one = list(iris.target).index(1)\n",
    "start_type_two = list(iris.target).index(2)\n"
   ]
  },
  {
   "cell_type": "code",
   "execution_count": 3,
   "metadata": {},
   "outputs": [
    {
     "name": "stdout",
     "output_type": "stream",
     "text": [
      "Intercept: [ 0.96256986 -0.19641091 -1.7644289 ]  Coefficients: [[ 0.44374849 -4.60187424]\n",
      " [-0.17912292  0.45576962]\n",
      " [-0.77517855  4.03438217]]\n"
     ]
    }
   ],
   "source": [
    "################################################################################\n",
    "# MODEL TRAINING\n",
    "################################################################################\n",
    "\n",
    "model = linear_model.LogisticRegression()\n",
    "model.fit(iris_inputs, iris.target)\n",
    "\n",
    "print('Intercept: {0}  Coefficients: {1}'.format(model.intercept_, model.coef_))"
   ]
  },
  {
   "cell_type": "code",
   "execution_count": 4,
   "metadata": {},
   "outputs": [
    {
     "name": "stdout",
     "output_type": "stream",
     "text": [
      "Type predictions: [0 1 2]\n",
      "Probabilities: [[  7.69373255e-01   2.24440444e-01   6.18630087e-03]\n",
      " [  1.49779039e-01   5.40495434e-01   3.09725527e-01]\n",
      " [  3.03615886e-04   3.18865502e-01   6.80830882e-01]]\n"
     ]
    }
   ],
   "source": [
    "################################################################################\n",
    "# PREDICTION\n",
    "################################################################################\n",
    "\n",
    "# Use the first input from each category\n",
    "inputs = [iris_inputs[0], iris_inputs[start_type_one], iris_inputs[start_type_two]]\n",
    "\n",
    "print('Type predictions: {0}'.format(model.predict(inputs)))\n",
    "print('Probabilities: {0}'.format(model.predict_proba(inputs)))"
   ]
  },
  {
   "cell_type": "code",
   "execution_count": 5,
   "metadata": {},
   "outputs": [
    {
     "data": {
      "image/png": "[encoded data removed]",
      "text/plain": [
       "<matplotlib.figure.Figure at 0x1092c4ef0>"
      ]
     },
     "metadata": {},
     "output_type": "display_data"
    }
   ],
   "source": [
    "################################################################################\n",
    "# PLOT\n",
    "################################################################################\n",
    "\n",
    "import matplotlib.pyplot\n",
    "\n",
    "# split the two inputs into single dimensional arrays for plotting\n",
    "x = iris_inputs[:,0]\n",
    "y = iris_inputs[:,1]\n",
    "\n",
    "# put the input data on the graph, with different colors and shapes for each type\n",
    "matplotlib.pyplot.scatter(x[:start_type_one], y[:start_type_one], c=\"red\", marker=\"o\")\n",
    "matplotlib.pyplot.scatter(x[start_type_one:start_type_two], y[start_type_one:start_type_two], c=\"blue\", marker=\"^\")\n",
    "matplotlib.pyplot.scatter(x[start_type_two:], y[start_type_two:], c=\"yellow\", marker=\"*\")\n",
    "\n",
    "matplotlib.pyplot.show()"
   ]
  },
  {
   "cell_type": "code",
   "execution_count": null,
   "metadata": {
    "collapsed": true
   },
   "outputs": [],
   "source": []
  }
 ],
 "metadata": {
  "kernelspec": {
   "display_name": "Python 3",
   "language": "python",
   "name": "python3"
  },
  "language_info": {
   "codemirror_mode": {
    "name": "ipython",
    "version": 3
   },
   "file_extension": ".py",
   "mimetype": "text/x-python",
   "name": "python",
   "nbconvert_exporter": "python",
   "pygments_lexer": "ipython3",
   "version": "3.6.2"
  }
 },
 "nbformat": 4,
 "nbformat_minor": 2
}
